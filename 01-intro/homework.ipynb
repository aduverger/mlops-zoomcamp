{
 "cells": [
  {
   "cell_type": "code",
<<<<<<< HEAD
   "execution_count": 1,
=======
   "execution_count": 42,
   "id": "7525e867",
>>>>>>> 74c02d18e0cfcb1e54ad63f85525b9572d427b64
   "metadata": {},
   "outputs": [],
   "source": [
    "import pandas as pd\n",
    "import seaborn as sns\n",
<<<<<<< HEAD
    "from matplotlib import pyplot as plt\n",
    "from sklearn.feature_extraction import DictVectorizer\n",
    "from sklearn.linear_model import LinearRegression\n",
=======
    "\n",
    "from sklearn.feature_extraction import DictVectorizer\n",
    "from sklearn.linear_model import LinearRegression\n",
    "\n",
>>>>>>> 74c02d18e0cfcb1e54ad63f85525b9572d427b64
    "from sklearn.metrics import mean_squared_error"
   ]
  },
  {
   "cell_type": "code",
<<<<<<< HEAD
   "execution_count": 16,
   "metadata": {},
   "outputs": [],
   "source": [
    "df_train = pd.read_parquet('fhv_tripdata_2021-01.parquet')"
   ]
  },
  {
   "cell_type": "markdown",
   "metadata": {},
   "source": [
    "### Q1. Downloading the data"
   ]
  },
  {
   "cell_type": "markdown",
   "metadata": {},
   "source": [
    "Read the data for January. How many records are there?"
   ]
  },
  {
   "cell_type": "code",
   "execution_count": 17,
   "metadata": {},
   "outputs": [
    {
     "data": {
      "text/plain": [
       "'Number of records: 1154112'"
      ]
     },
     "execution_count": 17,
     "metadata": {},
     "output_type": "execute_result"
    }
   ],
   "source": [
    "f\"Number of records: {df_train.shape[0]}\""
   ]
  },
  {
   "cell_type": "markdown",
   "metadata": {},
   "source": [
    "### Q2. Computing duration"
   ]
  },
  {
   "cell_type": "markdown",
   "metadata": {},
   "source": [
    "Now let's compute the `duration` variable. It should contain the duration of a ride in minutes.\n",
    "\n",
    "What's the average trip duration in January?"
   ]
  },
  {
   "cell_type": "code",
   "execution_count": 18,
   "metadata": {},
   "outputs": [
    {
     "data": {
      "text/plain": [
       "'Average trip duration in January: 19.167'"
      ]
     },
     "execution_count": 18,
     "metadata": {},
     "output_type": "execute_result"
    }
   ],
   "source": [
    "df_train['duration'] = df_train.dropOff_datetime - df_train.pickup_datetime\n",
    "df_train.duration = df_train.duration.apply(lambda td: td.total_seconds() / 60)\n",
    "f\"Average trip duration in January: {round(df_train.duration.mean(), 3)}\""
   ]
  },
  {
   "cell_type": "markdown",
   "metadata": {},
   "source": [
    "Check the distribution of the duration variable. There are some outliners."
   ]
  },
  {
   "cell_type": "code",
   "execution_count": 19,
   "metadata": {},
   "outputs": [
    {
     "name": "stderr",
     "output_type": "stream",
     "text": [
      "/home/alex/.pyenv/versions/3.8.12/envs/data/lib/python3.8/site-packages/seaborn/distributions.py:2619: FutureWarning: `distplot` is a deprecated function and will be removed in a future version. Please adapt your code to use either `displot` (a figure-level function with similar flexibility) or `histplot` (an axes-level function for histograms).\n",
      "  warnings.warn(msg, FutureWarning)\n"
     ]
    },
    {
     "data": {
      "image/png": "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",
      "text/plain": [
       "<Figure size 432x288 with 1 Axes>"
      ]
     },
     "metadata": {
      "needs_background": "light"
     },
     "output_type": "display_data"
    }
   ],
   "source": [
    "sns.distplot(df_train.duration, kde=True);"
   ]
  },
  {
   "cell_type": "markdown",
   "metadata": {},
   "source": [
    "Let's remove them and keep only the records where the duration was between 1 and 60 minutes (inclusive).\n",
    "\n",
    "How many records did you drop?"
=======
   "execution_count": 35,
   "id": "4c1fbc9a",
   "metadata": {},
   "outputs": [],
   "source": [
    "df = pd.read_parquet('./data/fhv_tripdata_2021-01.parquet')"
>>>>>>> 74c02d18e0cfcb1e54ad63f85525b9572d427b64
   ]
  },
  {
   "cell_type": "code",
   "execution_count": 20,
<<<<<<< HEAD
   "metadata": {},
   "outputs": [
    {
     "name": "stdout",
     "output_type": "stream",
     "text": [
      "Droped records: 44286\n"
     ]
    }
   ],
   "source": [
    "print(\n",
    "f\"Droped records: {df_train.shape[0] - (df_train[(df_train.duration <= 60) & (df_train.duration >= 1)]).shape[0]}\"\n",
    "    )\n",
    "df_train = df_train[(df_train.duration <= 60) & (df_train.duration >= 1)]"
   ]
  },
  {
   "cell_type": "code",
   "execution_count": 21,
   "metadata": {},
   "outputs": [
    {
     "name": "stderr",
     "output_type": "stream",
     "text": [
      "/home/alex/.pyenv/versions/3.8.12/envs/data/lib/python3.8/site-packages/seaborn/distributions.py:2619: FutureWarning: `distplot` is a deprecated function and will be removed in a future version. Please adapt your code to use either `displot` (a figure-level function with similar flexibility) or `histplot` (an axes-level function for histograms).\n",
      "  warnings.warn(msg, FutureWarning)\n"
     ]
    },
    {
     "data": {
      "image/png": "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",
      "text/plain": [
       "<Figure size 432x288 with 1 Axes>"
      ]
     },
     "metadata": {
      "needs_background": "light"
     },
     "output_type": "display_data"
    }
   ],
   "source": [
    "sns.distplot(df_train.duration, kde=True);"
   ]
  },
  {
   "cell_type": "markdown",
   "metadata": {},
   "source": [
    "### Q3. Missing values"
   ]
  },
  {
   "cell_type": "markdown",
   "metadata": {},
   "source": [
    "What's the factions of missing values for the pickup location ID? "
   ]
  },
  {
   "cell_type": "code",
   "execution_count": 22,
   "metadata": {},
   "outputs": [
    {
     "data": {
      "text/plain": [
       "'Fraction of missing values for PU Location ID : 0.835'"
      ]
     },
     "execution_count": 22,
     "metadata": {},
     "output_type": "execute_result"
    }
   ],
   "source": [
    "f\"Fraction of missing values for PU Location ID : {round(df_train.PUlocationID.isna().sum() / df_train.shape[0], 3)}\""
   ]
  },
  {
   "cell_type": "markdown",
   "metadata": {},
   "source": [
    "The features we'll use for our model are the pickup and dropoff location IDs.\n",
    "\n",
    "But they have a lot of missing values there. Let's replace them with \"-1\""
   ]
  },
  {
   "cell_type": "code",
   "execution_count": 23,
   "metadata": {},
   "outputs": [],
   "source": [
    "df_train.PUlocationID.fillna(-1, inplace=True)\n",
    "df_train.DOlocationID.fillna(-1, inplace=True)"
   ]
  },
  {
   "cell_type": "markdown",
   "metadata": {},
   "source": [
    "### Q4. One-hot encoding"
   ]
  },
  {
   "cell_type": "markdown",
   "metadata": {},
   "source": [
    "Let's apply one-hot encoding to the pickup and dropoff location IDs. We'll use only these two features for our model.\n",
    "\n",
    "* Turn the dataframe into a list of dictionaries\n",
    "* Fit a dictionary vectorizer\n",
    "* Get a feature matrix from it\n",
    "\n",
    "What's the dimensionality of this matrix? (The number of columns)"
=======
   "id": "7a70df86",
   "metadata": {},
   "outputs": [],
   "source": [
    "old_len = len(df)"
>>>>>>> 74c02d18e0cfcb1e54ad63f85525b9572d427b64
   ]
  },
  {
   "cell_type": "code",
<<<<<<< HEAD
   "execution_count": 24,
=======
   "execution_count": 36,
   "id": "f17cc325",
   "metadata": {},
   "outputs": [],
   "source": [
    "df['duration'] = df.dropOff_datetime - df.pickup_datetime\n",
    "df['duration'] = df.duration.dt.total_seconds() / 60"
   ]
  },
  {
   "cell_type": "code",
   "execution_count": 16,
   "id": "1b613836",
>>>>>>> 74c02d18e0cfcb1e54ad63f85525b9572d427b64
   "metadata": {},
   "outputs": [
    {
     "data": {
      "text/plain": [
<<<<<<< HEAD
       "'Dimensionality of matrix after OHE: 525'"
      ]
     },
     "execution_count": 24,
=======
       "19.1672240937939"
      ]
     },
     "execution_count": 16,
>>>>>>> 74c02d18e0cfcb1e54ad63f85525b9572d427b64
     "metadata": {},
     "output_type": "execute_result"
    }
   ],
   "source": [
<<<<<<< HEAD
    "dv = DictVectorizer()\n",
    "train_dicts = df_train[['PUlocationID', 'DOlocationID']].astype(str).to_dict(orient='records')\n",
    "X_train = dv.fit_transform(train_dicts)\n",
    "\n",
    "f\"Dimensionality of matrix after OHE: {X_train.shape[1]}\""
   ]
  },
  {
   "cell_type": "markdown",
   "metadata": {},
   "source": [
    "### Q5. Training a model"
   ]
  },
  {
   "cell_type": "markdown",
   "metadata": {},
   "source": [
    "Now let's use the feature matrix from the previous step to train a model.\n",
    "\n",
    "* Train a plain linear regression model with default parameters\n",
    "* Calculate the RMSE of the model on the training data\n",
    "\n",
    "What's the RMSE on train?"
=======
    "df.duration.mean()"
   ]
  },
  {
   "cell_type": "code",
   "execution_count": 37,
   "id": "3092ae43",
   "metadata": {},
   "outputs": [],
   "source": [
    "df = df[(df.duration >= 1) & (df.duration <= 60)].copy()"
   ]
  },
  {
   "cell_type": "code",
   "execution_count": 38,
   "id": "2e1aa200",
   "metadata": {},
   "outputs": [],
   "source": [
    "categorical = ['PUlocationID', 'DOlocationID']\n",
    "\n",
    "df[categorical] = df[categorical].fillna(-1).astype('int')"
   ]
  },
  {
   "cell_type": "code",
   "execution_count": 52,
   "id": "22c6495b",
   "metadata": {},
   "outputs": [],
   "source": [
    "df[categorical] = df[categorical].astype('str')"
   ]
  },
  {
   "cell_type": "code",
   "execution_count": 55,
   "id": "12fcfa04",
   "metadata": {},
   "outputs": [],
   "source": [
    "train_dicts = df[categorical].to_dict(orient='records')"
   ]
  },
  {
   "cell_type": "code",
   "execution_count": 56,
   "id": "0606301f",
   "metadata": {},
   "outputs": [],
   "source": [
    "dv = DictVectorizer()\n",
    "X_train = dv.fit_transform(train_dicts) "
>>>>>>> 74c02d18e0cfcb1e54ad63f85525b9572d427b64
   ]
  },
  {
   "cell_type": "code",
<<<<<<< HEAD
   "execution_count": 25,
=======
   "execution_count": 57,
   "id": "c81c6737",
>>>>>>> 74c02d18e0cfcb1e54ad63f85525b9572d427b64
   "metadata": {},
   "outputs": [
    {
     "data": {
      "text/plain": [
<<<<<<< HEAD
       "'RMSE on train: 10.53'"
      ]
     },
     "execution_count": 25,
=======
       "(1109826, 525)"
      ]
     },
     "execution_count": 57,
>>>>>>> 74c02d18e0cfcb1e54ad63f85525b9572d427b64
     "metadata": {},
     "output_type": "execute_result"
    }
   ],
   "source": [
<<<<<<< HEAD
    "target = 'duration'\n",
    "y_train = df_train[target].values\n",
    "\n",
    "lr = LinearRegression().fit(X_train, y_train)\n",
    "y_pred = lr.predict(X_train)\n",
    "\n",
    "f\"RMSE on train: {round(mean_squared_error(y_train, y_pred, squared=False), 2)}\""
   ]
  },
  {
   "cell_type": "markdown",
   "metadata": {},
   "source": [
    "### Q6. Evaluating the model"
   ]
  },
  {
   "cell_type": "markdown",
   "metadata": {},
   "source": [
    "Now let's apply this model to the validation dataset (Feb 2021).\n",
    "\n",
    "What's the RMSE on validation?"
=======
    "X_train.shape"
>>>>>>> 74c02d18e0cfcb1e54ad63f85525b9572d427b64
   ]
  },
  {
   "cell_type": "code",
<<<<<<< HEAD
   "execution_count": 26,
=======
   "execution_count": 60,
   "id": "aeaf7bad",
   "metadata": {},
   "outputs": [],
   "source": [
    "y_train = df.duration.values"
   ]
  },
  {
   "cell_type": "code",
   "execution_count": 59,
   "id": "75199886",
>>>>>>> 74c02d18e0cfcb1e54ad63f85525b9572d427b64
   "metadata": {},
   "outputs": [
    {
     "data": {
      "text/plain": [
<<<<<<< HEAD
       "'RMSE on val: 11.01'"
      ]
     },
     "execution_count": 26,
=======
       "525"
      ]
     },
     "execution_count": 59,
>>>>>>> 74c02d18e0cfcb1e54ad63f85525b9572d427b64
     "metadata": {},
     "output_type": "execute_result"
    }
   ],
   "source": [
<<<<<<< HEAD
    "df_val = pd.read_parquet('fhv_tripdata_2021-02.parquet')\n",
    "df_val['duration'] = df_val.dropOff_datetime - df_val.pickup_datetime\n",
    "df_val.duration = df_val.duration.apply(lambda td: td.total_seconds() / 60)\n",
    "\n",
    "df_val = df_val[(df_val.duration <= 60) & (df_val.duration >= 1)]\n",
    "\n",
    "df_val.PUlocationID.fillna(-1, inplace=True)\n",
    "df_val.DOlocationID.fillna(-1, inplace=True)\n",
    "\n",
    "val_dicts = df_val[['PUlocationID', 'DOlocationID']].astype(str).to_dict(orient='records')\n",
    "X_val = dv.transform(val_dicts)\n",
    "y_val = df_val[target].values\n",
    "y_pred = lr.predict(X_val)\n",
    "\n",
    "f\"RMSE on val: {round(mean_squared_error(y_val, y_pred, squared=False), 2)}\""
   ]
  }
 ],
 "metadata": {
  "interpreter": {
   "hash": "581a47098c770965793077f08c4624ad1859b558db9dfea9e4d59cad17be488d"
  },
  "kernelspec": {
   "display_name": "Python 3.8.12 64-bit ('data')",
=======
    "len(dv.feature_names_)"
   ]
  },
  {
   "cell_type": "code",
   "execution_count": 61,
   "id": "4d7f1e4b",
   "metadata": {},
   "outputs": [
    {
     "data": {
      "text/plain": [
       "LinearRegression()"
      ]
     },
     "execution_count": 61,
     "metadata": {},
     "output_type": "execute_result"
    }
   ],
   "source": [
    "lr = LinearRegression()\n",
    "lr.fit(X_train, y_train)"
   ]
  },
  {
   "cell_type": "code",
   "execution_count": 62,
   "id": "d61318d0",
   "metadata": {},
   "outputs": [],
   "source": [
    "y_pred = lr.predict(X_train)"
   ]
  },
  {
   "cell_type": "code",
   "execution_count": 63,
   "id": "1aa5f5c2",
   "metadata": {},
   "outputs": [
    {
     "data": {
      "text/plain": [
       "10.528519107212292"
      ]
     },
     "execution_count": 63,
     "metadata": {},
     "output_type": "execute_result"
    }
   ],
   "source": [
    "mean_squared_error(y_train, y_pred, squared=False)"
   ]
  },
  {
   "cell_type": "code",
   "execution_count": 64,
   "id": "41c08294",
   "metadata": {},
   "outputs": [],
   "source": [
    "categorical = ['PUlocationID', 'DOlocationID']\n",
    "\n",
    "def read_data(filename):\n",
    "    df = pd.read_parquet(filename)\n",
    "    \n",
    "    df['duration'] = df.dropOff_datetime - df.pickup_datetime\n",
    "    df['duration'] = df.duration.dt.total_seconds() / 60\n",
    "\n",
    "    df = df[(df.duration >= 1) & (df.duration <= 60)].copy()\n",
    "\n",
    "    df[categorical] = df[categorical].fillna(-1).astype('int').astype('str')\n",
    "    \n",
    "    return df"
   ]
  },
  {
   "cell_type": "code",
   "execution_count": 65,
   "id": "4854399a",
   "metadata": {},
   "outputs": [],
   "source": [
    "df_val = read_data('./data/fhv_tripdata_2021-02.parquet')"
   ]
  },
  {
   "cell_type": "code",
   "execution_count": 68,
   "id": "f9eea69f",
   "metadata": {},
   "outputs": [],
   "source": [
    "val_dicts = df_val[categorical].to_dict(orient='records')"
   ]
  },
  {
   "cell_type": "code",
   "execution_count": 69,
   "id": "669fda0a",
   "metadata": {},
   "outputs": [],
   "source": [
    "X_val = dv.transform(val_dicts) "
   ]
  },
  {
   "cell_type": "code",
   "execution_count": 70,
   "id": "7f8f950d",
   "metadata": {},
   "outputs": [],
   "source": [
    "y_pred = lr.predict(X_val)"
   ]
  },
  {
   "cell_type": "code",
   "execution_count": 71,
   "id": "8f129850",
   "metadata": {},
   "outputs": [],
   "source": [
    "y_val = df_val.duration.values"
   ]
  },
  {
   "cell_type": "code",
   "execution_count": 72,
   "id": "8a277ab9",
   "metadata": {},
   "outputs": [
    {
     "data": {
      "text/plain": [
       "11.014283211122269"
      ]
     },
     "execution_count": 72,
     "metadata": {},
     "output_type": "execute_result"
    }
   ],
   "source": [
    "mean_squared_error(y_val, y_pred, squared=False)"
   ]
  },
  {
   "cell_type": "code",
   "execution_count": null,
   "id": "b5108416",
   "metadata": {},
   "outputs": [],
   "source": []
  }
 ],
 "metadata": {
  "kernelspec": {
   "display_name": "Python 3 (ipykernel)",
>>>>>>> 74c02d18e0cfcb1e54ad63f85525b9572d427b64
   "language": "python",
   "name": "python3"
  },
  "language_info": {
   "codemirror_mode": {
    "name": "ipython",
    "version": 3
   },
   "file_extension": ".py",
   "mimetype": "text/x-python",
   "name": "python",
   "nbconvert_exporter": "python",
   "pygments_lexer": "ipython3",
<<<<<<< HEAD
   "version": "3.8.12"
  },
  "orig_nbformat": 4
 },
 "nbformat": 4,
 "nbformat_minor": 2
=======
   "version": "3.9.7"
  }
 },
 "nbformat": 4,
 "nbformat_minor": 5
>>>>>>> 74c02d18e0cfcb1e54ad63f85525b9572d427b64
}
